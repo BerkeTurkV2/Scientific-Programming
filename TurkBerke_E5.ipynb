{
 "cells": [
  {
   "cell_type": "markdown",
   "id": "699d3ade",
   "metadata": {},
   "source": [
    "## Exercise 9.5: Singular values"
   ]
  },
  {
   "cell_type": "code",
   "execution_count": 5,
   "id": "582a69dd",
   "metadata": {},
   "outputs": [
    {
     "name": "stdout",
     "output_type": "stream",
     "text": [
      "n, p , sigma: 200 0.125 9.462217116607652\n",
      "n, p , sigma: 200 0.25 11.96192922668237\n",
      "n, p , sigma: 200 0.375 13.52014812158653\n",
      "n, p , sigma: 200 0.5 13.913122111917804\n",
      "n, p , sigma: 200 0.625 13.53520562904356\n",
      "n, p , sigma: 200 0.75 12.048043764934318\n",
      "n, p , sigma: 200 0.875 9.253059113022973\n",
      "n, p , sigma: 200 1.0 0.0\n"
     ]
    }
   ],
   "source": [
    "import numpy as np\n",
    "from scipy.linalg import toeplitz\n",
    "from numpy import linalg as LA\n",
    "\n",
    "n=200\n",
    "for i in range(1,9):\n",
    "    p = i / 8\n",
    "    C = np.random.choice(2,(n,n),p=[p,1-p])\n",
    "    sigma = LA.svd(C,1,0)[1]\n",
    "    print(\"n, p , sigma: \",end='')\n",
    "    print(n, p, sigma)"
   ]
  },
  {
   "cell_type": "markdown",
   "id": "f6734962",
   "metadata": {},
   "source": [
    "# 10 Scipy"
   ]
  },
  {
   "cell_type": "markdown",
   "id": "bc880a3d",
   "metadata": {},
   "source": [
    "## Exercise 10.1: Least squares"
   ]
  },
  {
   "cell_type": "code",
   "execution_count": 6,
   "id": "6d4b0698",
   "metadata": {},
   "outputs": [
    {
     "name": "stdout",
     "output_type": "stream",
     "text": [
      "[ 0.3738607   0.39754416 -0.01074094 -0.46765266  0.04894182  0.37337602\n",
      " -0.38208962  0.02847801  0.54034357  0.10795102]\n",
      "[ 0.3738606   0.39754402 -0.01074066 -0.46765274  0.04894187  0.373376\n",
      " -0.38208953  0.02847784  0.54034371  0.10795095]\n",
      "0.03395125289244423\n"
     ]
    }
   ],
   "source": [
    "from scipy.optimize import leastsq\n",
    "import numpy as np\n",
    "\n",
    "m = 20\n",
    "n = 10\n",
    "\n",
    "def func(p,x):\n",
    "\ts = np.random.rand(m)\n",
    "\tfor i in range(m):\n",
    "\t\ttmp = 0.0\n",
    "\t\tfor j in range(n):\n",
    "\t\t\ttmp += x[i][j]*p[j]\n",
    "\t\ts[i] = tmp\n",
    "\t\n",
    "\treturn s\n",
    "\n",
    "def err(p,A,y):\n",
    "\te = (func(p,A)-y)\n",
    "\treturn e\n",
    "\t\n",
    "A = np.random.rand(m,n)\n",
    "b = np.random.rand(m)\n",
    "p = np.random.rand(n)\n",
    "\n",
    "x = np.linalg.solve(A.T@A,A.T@b)\n",
    "print(x)\n",
    "rst = leastsq(err,p,args=(A,b))\n",
    "x = rst[0]\n",
    "print(x)\n",
    "\n",
    "print(np.sum((err(x,A,b)**2)/m))"
   ]
  },
  {
   "cell_type": "markdown",
   "id": "5344e579",
   "metadata": {},
   "source": [
    "## Exercise 10.2: Optimization\n"
   ]
  },
  {
   "cell_type": "code",
   "execution_count": 8,
   "id": "cc0cef9a",
   "metadata": {},
   "outputs": [
    {
     "name": "stdout",
     "output_type": "stream",
     "text": [
      "0.9116854118471548\n"
     ]
    }
   ],
   "source": [
    "import math\n",
    "from scipy.optimize import minimize_scalar\n",
    "\n",
    "func = lambda x: -((math.sin(x-2))**2)*math.e**(-(x**2))\n",
    "rst = minimize_scalar(func)\n",
    "print(-rst['fun'])"
   ]
  },
  {
   "cell_type": "markdown",
   "id": "7321c4e1",
   "metadata": {},
   "source": [
    "## Exercise 10.3: Pairwise distances"
   ]
  },
  {
   "cell_type": "code",
   "execution_count": 9,
   "id": "15c5af8c",
   "metadata": {},
   "outputs": [
    {
     "name": "stdout",
     "output_type": "stream",
     "text": [
      "[4.99463688 3.61966983 5.70295029 4.89612967 4.74447108 3.57105702\n",
      " 4.39058628 5.09764513 4.00737801 4.33300315 4.50953337 5.57760563\n",
      " 2.14594109 3.53666053 4.64752424 3.91949038 3.22100277 4.13828064\n",
      " 3.68700821 4.61423318 2.88758146 4.84040333 4.62729885 4.14428788\n",
      " 5.4938967  4.85513022 4.86277022 4.92921774 2.43888037 4.32267487\n",
      " 5.30179848 4.59349417 4.47975201 6.6581527  4.95159874 3.80083165\n",
      " 3.51759081 4.40048152 1.63922854 3.4912271  4.36103973 3.85069338\n",
      " 4.82206195 3.01029994 4.01126311]\n"
     ]
    }
   ],
   "source": [
    "import numpy as np\n",
    "from scipy.spatial import distance\n",
    "\n",
    "X = np.random.randn(10,8)\n",
    "dm = distance.pdist(X,metric='euclidean')\n",
    "print(dm)"
   ]
  },
  {
   "cell_type": "markdown",
   "id": "63b75aec",
   "metadata": {},
   "source": [
    "# 11 Matplotlib"
   ]
  },
  {
   "cell_type": "markdown",
   "id": "50094a04",
   "metadata": {},
   "source": [
    "## Exercise 11.1: Plotting a function"
   ]
  },
  {
   "cell_type": "code",
   "execution_count": 11,
   "id": "0f6b16bc",
   "metadata": {},
   "outputs": [
    {
     "data": {
      "image/png": "[encoded data removed]",
      "text/plain": [
       "<Figure size 432x288 with 1 Axes>"
      ]
     },
     "metadata": {
      "needs_background": "light"
     },
     "output_type": "display_data"
    }
   ],
   "source": [
    "import numpy as np\n",
    "import matplotlib.pyplot as plt\n",
    "\n",
    "x = np.linspace(0,1,500)\n",
    "y = (np.sin(x-2)**2)*np.exp(-x**2)\n",
    "plt.plot(x,y)\n",
    "plt.xlabel('x')\n",
    "plt.ylabel('y')\n",
    "plt.title('Graph of the function  sin2(x−2)e−x2 \\n')\n",
    "plt.show()"
   ]
  },
  {
   "cell_type": "markdown",
   "id": "845ea19a",
   "metadata": {},
   "source": [
    "## Exercise 11.2: Data"
   ]
  },
  {
   "cell_type": "code",
   "execution_count": 12,
   "id": "6b63e104",
   "metadata": {},
   "outputs": [
    {
     "data": {
      "image/png": "[encoded data removed]",
      "text/plain": [
       "<Figure size 432x288 with 1 Axes>"
      ]
     },
     "metadata": {
      "needs_background": "light"
     },
     "output_type": "display_data"
    }
   ],
   "source": [
    "import numpy as np\n",
    "import matplotlib.pyplot as plt\n",
    "from numpy import linalg as LA\n",
    "\n",
    "x = np.random.rand(20,10)\n",
    "b = np.random.rand(10,1)\n",
    "z = np.random.standard_normal((20,1))\n",
    "y = x.dot(b)-z\n",
    "\n",
    "b1 = LA.lstsq(x,y,rcond=None)[0]\n",
    "\n",
    "#绘制\n",
    "x1 = np.array(list(range(10)))\n",
    "plt.scatter(x1,b,label='Origin-b',color='b',s=25,marker='o')\n",
    "plt.scatter(x1,b1,label='Estimated-b^',color='y',s=25,marker='^')\n",
    "\n",
    "plt.xlabel('x')\n",
    "plt.ylabel('b')\n",
    "plt.title('Least Square Question\\n')\n",
    "plt.legend()\n",
    "plt.show()"
   ]
  },
  {
   "cell_type": "markdown",
   "id": "87af2e81",
   "metadata": {},
   "source": [
    "## Exercise 11.3: Histogram and density estimation"
   ]
  },
  {
   "cell_type": "code",
   "execution_count": 14,
   "id": "b70621e1",
   "metadata": {},
   "outputs": [
    {
     "data": {
      "image/png": "[encoded data removed]",
      "text/plain": [
       "<Figure size 432x288 with 1 Axes>"
      ]
     },
     "metadata": {
      "needs_background": "light"
     },
     "output_type": "display_data"
    }
   ],
   "source": [
    "import numpy as np\n",
    "import matplotlib.pyplot as plt\n",
    "from scipy.stats import gaussian_kde\n",
    "\n",
    "z = np.random.normal(0,0.5,1000)\n",
    "z = sorted(z)\n",
    "kernel = gaussian_kde(z)\n",
    "\n",
    "plt.hist(z,bins=25,density=True)\n",
    "plt.plot(z,kernel.pdf(z))\n",
    "\n",
    "plt.title('kde plot')\n",
    "plt.xlabel('x')\n",
    "plt.ylabel('y')\n",
    "plt.show()"
   ]
  },
  {
   "cell_type": "code",
   "execution_count": null,
   "id": "ad4d37a9",
   "metadata": {},
   "outputs": [],
   "source": []
  }
 ],
 "metadata": {
  "kernelspec": {
   "display_name": "Python 3 (ipykernel)",
   "language": "python",
   "name": "python3"
  },
  "language_info": {
   "codemirror_mode": {
    "name": "ipython",
    "version": 3
   },
   "file_extension": ".py",
   "mimetype": "text/x-python",
   "name": "python",
   "nbconvert_exporter": "python",
   "pygments_lexer": "ipython3",
   "version": "3.10.4"
  }
 },
 "nbformat": 4,
 "nbformat_minor": 5
}
